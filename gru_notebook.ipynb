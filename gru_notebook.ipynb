{
 "cells": [
  {
   "cell_type": "markdown",
   "metadata": {},
   "source": [
    "# Air pollution GRU and LSTM model"
   ]
  },
  {
   "cell_type": "code",
   "execution_count": 1,
   "metadata": {},
   "outputs": [],
   "source": [
    "import pandas as pd\n",
    "import numpy as np\n",
    "import torch\n",
    "import torch.nn as nn\n",
    "import lightning as L\n",
    "import torch.nn.functional as F\n",
    "from torch.utils.data import Dataset, DataLoader\n",
    "from sklearn.preprocessing import MinMaxScaler, StandardScaler\n",
    "from sklearn.model_selection import train_test_split\n",
    "from sklearn.metrics import mean_squared_error, mean_absolute_error, mean_absolute_percentage_error\n",
    "import seaborn as sn\n",
    "import matplotlib.pyplot as plt\n",
    "\n",
    "device = torch.device('cuda' if torch.cuda.is_available() else 'cpu')"
   ]
  },
  {
   "cell_type": "markdown",
   "metadata": {},
   "source": [
    "## Exploring the dataset"
   ]
  },
  {
   "cell_type": "code",
   "execution_count": 17,
   "metadata": {},
   "outputs": [],
   "source": [
    "pollution_df  = pd.read_csv(\"data/LSTM-Multivariate_pollution.csv\")"
   ]
  },
  {
   "cell_type": "code",
   "execution_count": 22,
   "metadata": {},
   "outputs": [
    {
     "data": {
      "text/html": [
       "<div>\n",
       "<style scoped>\n",
       "    .dataframe tbody tr th:only-of-type {\n",
       "        vertical-align: middle;\n",
       "    }\n",
       "\n",
       "    .dataframe tbody tr th {\n",
       "        vertical-align: top;\n",
       "    }\n",
       "\n",
       "    .dataframe thead th {\n",
       "        text-align: right;\n",
       "    }\n",
       "</style>\n",
       "<table border=\"1\" class=\"dataframe\">\n",
       "  <thead>\n",
       "    <tr style=\"text-align: right;\">\n",
       "      <th></th>\n",
       "      <th>date</th>\n",
       "      <th>pollution</th>\n",
       "      <th>dew</th>\n",
       "      <th>temp</th>\n",
       "      <th>press</th>\n",
       "      <th>wnd_dir</th>\n",
       "      <th>wnd_spd</th>\n",
       "      <th>snow</th>\n",
       "      <th>rain</th>\n",
       "    </tr>\n",
       "  </thead>\n",
       "  <tbody>\n",
       "    <tr>\n",
       "      <th>0</th>\n",
       "      <td>2010-01-02 00:00:00</td>\n",
       "      <td>129.0</td>\n",
       "      <td>-16</td>\n",
       "      <td>-4.0</td>\n",
       "      <td>1020.0</td>\n",
       "      <td>SE</td>\n",
       "      <td>1.79</td>\n",
       "      <td>0</td>\n",
       "      <td>0</td>\n",
       "    </tr>\n",
       "    <tr>\n",
       "      <th>1</th>\n",
       "      <td>2010-01-02 01:00:00</td>\n",
       "      <td>148.0</td>\n",
       "      <td>-15</td>\n",
       "      <td>-4.0</td>\n",
       "      <td>1020.0</td>\n",
       "      <td>SE</td>\n",
       "      <td>2.68</td>\n",
       "      <td>0</td>\n",
       "      <td>0</td>\n",
       "    </tr>\n",
       "    <tr>\n",
       "      <th>2</th>\n",
       "      <td>2010-01-02 02:00:00</td>\n",
       "      <td>159.0</td>\n",
       "      <td>-11</td>\n",
       "      <td>-5.0</td>\n",
       "      <td>1021.0</td>\n",
       "      <td>SE</td>\n",
       "      <td>3.57</td>\n",
       "      <td>0</td>\n",
       "      <td>0</td>\n",
       "    </tr>\n",
       "    <tr>\n",
       "      <th>3</th>\n",
       "      <td>2010-01-02 03:00:00</td>\n",
       "      <td>181.0</td>\n",
       "      <td>-7</td>\n",
       "      <td>-5.0</td>\n",
       "      <td>1022.0</td>\n",
       "      <td>SE</td>\n",
       "      <td>5.36</td>\n",
       "      <td>1</td>\n",
       "      <td>0</td>\n",
       "    </tr>\n",
       "    <tr>\n",
       "      <th>4</th>\n",
       "      <td>2010-01-02 04:00:00</td>\n",
       "      <td>138.0</td>\n",
       "      <td>-7</td>\n",
       "      <td>-5.0</td>\n",
       "      <td>1022.0</td>\n",
       "      <td>SE</td>\n",
       "      <td>6.25</td>\n",
       "      <td>2</td>\n",
       "      <td>0</td>\n",
       "    </tr>\n",
       "  </tbody>\n",
       "</table>\n",
       "</div>"
      ],
      "text/plain": [
       "                  date  pollution  dew  temp   press wnd_dir  wnd_spd  snow  \\\n",
       "0  2010-01-02 00:00:00      129.0  -16  -4.0  1020.0      SE     1.79     0   \n",
       "1  2010-01-02 01:00:00      148.0  -15  -4.0  1020.0      SE     2.68     0   \n",
       "2  2010-01-02 02:00:00      159.0  -11  -5.0  1021.0      SE     3.57     0   \n",
       "3  2010-01-02 03:00:00      181.0   -7  -5.0  1022.0      SE     5.36     1   \n",
       "4  2010-01-02 04:00:00      138.0   -7  -5.0  1022.0      SE     6.25     2   \n",
       "\n",
       "   rain  \n",
       "0     0  \n",
       "1     0  \n",
       "2     0  \n",
       "3     0  \n",
       "4     0  "
      ]
     },
     "execution_count": 22,
     "metadata": {},
     "output_type": "execute_result"
    }
   ],
   "source": [
    "pollution_df.head()"
   ]
  },
  {
   "cell_type": "code",
   "execution_count": 23,
   "metadata": {},
   "outputs": [
    {
     "data": {
      "text/plain": [
       "(43800, 9)"
      ]
     },
     "execution_count": 23,
     "metadata": {},
     "output_type": "execute_result"
    }
   ],
   "source": [
    "pollution_df.shape"
   ]
  },
  {
   "cell_type": "code",
   "execution_count": 24,
   "metadata": {},
   "outputs": [
    {
     "data": {
      "text/plain": [
       "date          object\n",
       "pollution    float64\n",
       "dew            int64\n",
       "temp         float64\n",
       "press        float64\n",
       "wnd_dir       object\n",
       "wnd_spd      float64\n",
       "snow           int64\n",
       "rain           int64\n",
       "dtype: object"
      ]
     },
     "execution_count": 24,
     "metadata": {},
     "output_type": "execute_result"
    }
   ],
   "source": [
    "pollution_df.dtypes"
   ]
  },
  {
   "cell_type": "code",
   "execution_count": 25,
   "metadata": {},
   "outputs": [
    {
     "data": {
      "text/html": [
       "<div>\n",
       "<style scoped>\n",
       "    .dataframe tbody tr th:only-of-type {\n",
       "        vertical-align: middle;\n",
       "    }\n",
       "\n",
       "    .dataframe tbody tr th {\n",
       "        vertical-align: top;\n",
       "    }\n",
       "\n",
       "    .dataframe thead th {\n",
       "        text-align: right;\n",
       "    }\n",
       "</style>\n",
       "<table border=\"1\" class=\"dataframe\">\n",
       "  <thead>\n",
       "    <tr style=\"text-align: right;\">\n",
       "      <th></th>\n",
       "      <th>pollution</th>\n",
       "      <th>dew</th>\n",
       "      <th>temp</th>\n",
       "      <th>press</th>\n",
       "      <th>wnd_spd</th>\n",
       "      <th>snow</th>\n",
       "      <th>rain</th>\n",
       "    </tr>\n",
       "  </thead>\n",
       "  <tbody>\n",
       "    <tr>\n",
       "      <th>count</th>\n",
       "      <td>43800.000000</td>\n",
       "      <td>43800.000000</td>\n",
       "      <td>43800.000000</td>\n",
       "      <td>43800.000000</td>\n",
       "      <td>43800.000000</td>\n",
       "      <td>43800.000000</td>\n",
       "      <td>43800.000000</td>\n",
       "    </tr>\n",
       "    <tr>\n",
       "      <th>mean</th>\n",
       "      <td>94.013516</td>\n",
       "      <td>1.828516</td>\n",
       "      <td>12.459041</td>\n",
       "      <td>1016.447306</td>\n",
       "      <td>23.894307</td>\n",
       "      <td>0.052763</td>\n",
       "      <td>0.195023</td>\n",
       "    </tr>\n",
       "    <tr>\n",
       "      <th>std</th>\n",
       "      <td>92.252276</td>\n",
       "      <td>14.429326</td>\n",
       "      <td>12.193384</td>\n",
       "      <td>10.271411</td>\n",
       "      <td>50.022729</td>\n",
       "      <td>0.760582</td>\n",
       "      <td>1.416247</td>\n",
       "    </tr>\n",
       "    <tr>\n",
       "      <th>min</th>\n",
       "      <td>0.000000</td>\n",
       "      <td>-40.000000</td>\n",
       "      <td>-19.000000</td>\n",
       "      <td>991.000000</td>\n",
       "      <td>0.450000</td>\n",
       "      <td>0.000000</td>\n",
       "      <td>0.000000</td>\n",
       "    </tr>\n",
       "    <tr>\n",
       "      <th>25%</th>\n",
       "      <td>24.000000</td>\n",
       "      <td>-10.000000</td>\n",
       "      <td>2.000000</td>\n",
       "      <td>1008.000000</td>\n",
       "      <td>1.790000</td>\n",
       "      <td>0.000000</td>\n",
       "      <td>0.000000</td>\n",
       "    </tr>\n",
       "    <tr>\n",
       "      <th>50%</th>\n",
       "      <td>68.000000</td>\n",
       "      <td>2.000000</td>\n",
       "      <td>14.000000</td>\n",
       "      <td>1016.000000</td>\n",
       "      <td>5.370000</td>\n",
       "      <td>0.000000</td>\n",
       "      <td>0.000000</td>\n",
       "    </tr>\n",
       "    <tr>\n",
       "      <th>75%</th>\n",
       "      <td>132.250000</td>\n",
       "      <td>15.000000</td>\n",
       "      <td>23.000000</td>\n",
       "      <td>1025.000000</td>\n",
       "      <td>21.910000</td>\n",
       "      <td>0.000000</td>\n",
       "      <td>0.000000</td>\n",
       "    </tr>\n",
       "    <tr>\n",
       "      <th>max</th>\n",
       "      <td>994.000000</td>\n",
       "      <td>28.000000</td>\n",
       "      <td>42.000000</td>\n",
       "      <td>1046.000000</td>\n",
       "      <td>585.600000</td>\n",
       "      <td>27.000000</td>\n",
       "      <td>36.000000</td>\n",
       "    </tr>\n",
       "  </tbody>\n",
       "</table>\n",
       "</div>"
      ],
      "text/plain": [
       "          pollution           dew          temp         press       wnd_spd  \\\n",
       "count  43800.000000  43800.000000  43800.000000  43800.000000  43800.000000   \n",
       "mean      94.013516      1.828516     12.459041   1016.447306     23.894307   \n",
       "std       92.252276     14.429326     12.193384     10.271411     50.022729   \n",
       "min        0.000000    -40.000000    -19.000000    991.000000      0.450000   \n",
       "25%       24.000000    -10.000000      2.000000   1008.000000      1.790000   \n",
       "50%       68.000000      2.000000     14.000000   1016.000000      5.370000   \n",
       "75%      132.250000     15.000000     23.000000   1025.000000     21.910000   \n",
       "max      994.000000     28.000000     42.000000   1046.000000    585.600000   \n",
       "\n",
       "               snow          rain  \n",
       "count  43800.000000  43800.000000  \n",
       "mean       0.052763      0.195023  \n",
       "std        0.760582      1.416247  \n",
       "min        0.000000      0.000000  \n",
       "25%        0.000000      0.000000  \n",
       "50%        0.000000      0.000000  \n",
       "75%        0.000000      0.000000  \n",
       "max       27.000000     36.000000  "
      ]
     },
     "execution_count": 25,
     "metadata": {},
     "output_type": "execute_result"
    }
   ],
   "source": [
    "pollution_df.describe()"
   ]
  },
  {
   "cell_type": "code",
   "execution_count": 26,
   "metadata": {},
   "outputs": [
    {
     "data": {
      "text/plain": [
       "array(['SE', 'cv', 'NW', 'NE'], dtype=object)"
      ]
     },
     "execution_count": 26,
     "metadata": {},
     "output_type": "execute_result"
    }
   ],
   "source": [
    "pollution_df.wnd_dir.unique()"
   ]
  },
  {
   "cell_type": "code",
   "execution_count": 27,
   "metadata": {},
   "outputs": [
    {
     "data": {
      "text/plain": [
       "date         0\n",
       "pollution    0\n",
       "dew          0\n",
       "temp         0\n",
       "press        0\n",
       "wnd_dir      0\n",
       "wnd_spd      0\n",
       "snow         0\n",
       "rain         0\n",
       "dtype: int64"
      ]
     },
     "execution_count": 27,
     "metadata": {},
     "output_type": "execute_result"
    }
   ],
   "source": [
    "pollution_df.isna().sum()"
   ]
  },
  {
   "cell_type": "markdown",
   "metadata": {},
   "source": [
    "## Visualization"
   ]
  },
  {
   "cell_type": "code",
   "execution_count": 28,
   "metadata": {},
   "outputs": [
    {
     "data": {
      "image/png": "[encoded data removed]",
      "text/plain": [
       "<Figure size 640x480 with 1 Axes>"
      ]
     },
     "metadata": {},
     "output_type": "display_data"
    }
   ],
   "source": [
    "sn.set_theme(style=\"darkgrid\")\n",
    "\n",
    "plot_ = sn.lineplot(x=\"date\"\n",
    "                    , y=\"pollution\"\n",
    "                    , data=pollution_df.iloc[1:1000,:])\n",
    "\n",
    "for ind, label in enumerate(plot_.get_xticklabels()):\n",
    "    if ind % 24 == 0:\n",
    "        label.set_visible(True)\n",
    "    else:\n",
    "        label.set_visible(False)\n",
    "\n",
    "plt.xticks(rotation = 25)\n",
    "plt.tight_layout()\n",
    "plt.show()"
   ]
  },
  {
   "cell_type": "markdown",
   "metadata": {},
   "source": [
    "## Pytorch codes"
   ]
  },
  {
   "cell_type": "markdown",
   "metadata": {},
   "source": [
    "### Custom dataset class"
   ]
  },
  {
   "cell_type": "code",
   "execution_count": 72,
   "metadata": {},
   "outputs": [],
   "source": [
    "# Custom dataset class for pollution data\n",
    "class PollutionData(Dataset):\n",
    "    def __init__(self, X, y, seq_len, device=device):\n",
    "        # Features and targets\n",
    "        self.X = X\n",
    "        self.y = y\n",
    "        # Length of sequence\n",
    "        self.seq_len = seq_len\n",
    "        # Chosen device\n",
    "        self.device = device\n",
    "\n",
    "    def __len__(self):\n",
    "        return len(self.X)\n",
    "\n",
    "    def __getitem__(self, idx):\n",
    "        # Concatenate X and y to use target lags as input\n",
    "        X_sample = np.concatenate([self.X, self.y], axis=1)\n",
    "        \n",
    "        # If the index is lower than sequence length, then apply padding\n",
    "        if idx >= self.seq_len:\n",
    "            X_sample = X_sample[(idx - self.seq_len):idx]      \n",
    "        else:\n",
    "            X_sample = X_sample[:idx]\n",
    "            padding = np.zeros((self.seq_len - idx, X_sample.shape[1]))\n",
    "            X_sample = np.concatenate([padding, X_sample], axis = 0)\n",
    "        \n",
    "        return torch.tensor(X_sample).to(torch.float32).to(self.device), torch.tensor(self.y[idx]).to(torch.float32).to(self.device)"
   ]
  },
  {
   "cell_type": "markdown",
   "metadata": {},
   "source": [
    "### Lightning dataloader"
   ]
  },
  {
   "cell_type": "code",
   "execution_count": 73,
   "metadata": {},
   "outputs": [],
   "source": [
    "# Custom lightning dataloader\n",
    "class PollutionDataLoader(L.LightningDataModule):\n",
    "    def __init__(self, train_dir, test_dir, seq_len, X_scaler, y_scaler, test_size, random_state, batch_size, num_workers, device):\n",
    "        super().__init__()\n",
    "        self.train_dir = train_dir\n",
    "        self.test_dir = test_dir\n",
    "        self.seq_len = seq_len\n",
    "        self.X_scaler = X_scaler\n",
    "        self.y_scaler = y_scaler\n",
    "        self.test_size = test_size\n",
    "        self.random_sate = random_state\n",
    "        self.batch_size = batch_size\n",
    "        self.num_workers = num_workers\n",
    "        self.device = device\n",
    "        self.train_df = None\n",
    "        self.test_df = None\n",
    "        self.X_train = None\n",
    "        self.y_train = None\n",
    "        self.X_val = None\n",
    "        self.y_val = None\n",
    "        self.X_test = None\n",
    "        self.y_test = None\n",
    "        self.pollution_train = None\n",
    "        self.pollution_val = None\n",
    "\n",
    "    def setup(self, stage):\n",
    "        # Load the training dataset\n",
    "        self.train_df = pd.read_csv(self.train_dir)\n",
    "        # Map the categories of wind direction to numeric values\n",
    "        mapping = {\"NE\": 0, \"NW\": 1, \"SE\": 2, \"cv\": 3}\n",
    "        self.train_df[\"wnd_dir\"] = self.train_df.wnd_dir.map(mapping)\n",
    "        # Create X and y by dropping date and seperating features and target\n",
    "        X = self.train_df.drop([\"date\", \"pollution\"], axis=1)\n",
    "        y = self.train_df[[\"pollution\"]]\n",
    "        # Apply train test split\n",
    "        self.X_train, self.X_val, self.y_train, self.y_val = train_test_split(X\n",
    "                                                                              , y\n",
    "                                                                              , test_size=self.test_size\n",
    "                                                                              , shuffle=False\n",
    "                                                                              , random_state=self.random_sate\n",
    "                                                                              )\n",
    "        \n",
    "        # Transform with scaler if provided\n",
    "        if self.X_scaler and self.y_scaler:\n",
    "            self.X_train = self.X_scaler.fit_transform(self.X_train)\n",
    "            self.X_val = self.X_scaler.transform(self.X_val)\n",
    "            self.y_train = self.y_scaler.fit_transform(self.y_train)\n",
    "            self.y_val = self.y_scaler.transform(self.y_val)\n",
    "\n",
    "        # Create two instances of the custom dataset class\n",
    "        self.pollution_train = PollutionData(self.X_train\n",
    "                                             , self.y_train\n",
    "                                             , seq_len=self.seq_len\n",
    "                                             , device=self.device\n",
    "                                             )\n",
    "        self.pollution_val = PollutionData(self.X_val\n",
    "                                             , self.y_val\n",
    "                                             , seq_len=self.seq_len\n",
    "                                             , device=self.device\n",
    "                                             )\n",
    "\n",
    "    def train_dataloader(self):\n",
    "        # Return the dataloader of train data\n",
    "        return DataLoader(self.pollution_train\n",
    "                          , shuffle=True\n",
    "                          , batch_size=self.batch_size\n",
    "                          , drop_last=False\n",
    "                          , num_workers=self.num_workers\n",
    "                          )\n",
    "\n",
    "    def val_dataloader(self):\n",
    "        # Return the dataloader of validation data\n",
    "        return DataLoader(self.pollution_val\n",
    "                          , shuffle=False\n",
    "                          , batch_size=self.batch_size\n",
    "                          , drop_last=False\n",
    "                          , num_workers=self.num_workers\n",
    "                          )"
   ]
  },
  {
   "cell_type": "markdown",
   "metadata": {},
   "source": [
    "### LSTM model class"
   ]
  },
  {
   "cell_type": "code",
   "execution_count": 4,
   "metadata": {},
   "outputs": [],
   "source": [
    "# LSTM model class\n",
    "class LSTMModel(nn.Module):\n",
    "    def __init__(self, in_size, h_size, num_l, out_f):\n",
    "        super().__init__()\n",
    "        self.input_size = in_size\n",
    "        self.hidden_size = h_size\n",
    "        self.num_layers = num_l\n",
    "        self.out_features = out_f\n",
    "        self.lstm = nn.LSTM(input_size=self.input_size\n",
    "                            , hidden_size=self.hidden_size\n",
    "                            , num_layers=self.num_layers\n",
    "                            , batch_first=True\n",
    "                            , dropout=0.1\n",
    "                            )\n",
    "        self.linear1 = nn.Linear(in_features=self.hidden_size\n",
    "                                 , out_features=self.out_features)\n",
    "    \n",
    "    def forward(self, X):\n",
    "        X, _ = self.lstm(X)\n",
    "        X = self.linear1(X[:,-1,:])\n",
    "\n",
    "        return X"
   ]
  },
  {
   "cell_type": "markdown",
   "metadata": {},
   "source": [
    "### GRU model class"
   ]
  },
  {
   "cell_type": "code",
   "execution_count": 5,
   "metadata": {},
   "outputs": [],
   "source": [
    "# GRU model class\n",
    "class GRUModel(nn.Module):\n",
    "    def __init__(self, in_size, h_size, num_l, out_f):\n",
    "        super().__init__()\n",
    "        self.input_size = in_size\n",
    "        self.hidden_size = h_size\n",
    "        self.num_layers = num_l\n",
    "        self.out_features = out_f\n",
    "        self.lstm = nn.GRU(input_size=self.input_size\n",
    "                           , hidden_size=self.hidden_size\n",
    "                           , num_layers=self.num_layers\n",
    "                           , batch_first=True\n",
    "                           , dropout=0.1\n",
    "                           )\n",
    "        self.linear1 = nn.Linear(in_features=self.hidden_size\n",
    "                                 , out_features=self.out_features\n",
    "                                 )\n",
    "    \n",
    "    def forward(self, X):\n",
    "        X, _ = self.lstm(X)\n",
    "        X = self.linear1(X[:,-1,:])\n",
    "\n",
    "        return X"
   ]
  },
  {
   "cell_type": "markdown",
   "metadata": {},
   "source": [
    "### Lightning time-series model class"
   ]
  },
  {
   "cell_type": "code",
   "execution_count": 6,
   "metadata": {},
   "outputs": [],
   "source": [
    "# Time-series model created with lightning\n",
    "class TSModel(L.LightningModule):\n",
    "    def __init__(self, model, lr=0.01):\n",
    "        super().__init__()\n",
    "        # Model of choice (either LSTM or GRU)\n",
    "        self.model = model\n",
    "        # Learning rate\n",
    "        self.lr = lr\n",
    "\n",
    "    def training_step(self, batch, batch_idx):\n",
    "        X, y = batch\n",
    "        y_pred = self.model(X)\n",
    "        train_loss = F.mse_loss(y_pred, y)\n",
    "        self.log(\"train_loss\", train_loss, prog_bar=True, on_step=False, on_epoch=True)\n",
    "        return train_loss\n",
    "    \n",
    "    def validation_step(self, batch, batch_idx):\n",
    "        X, y = batch\n",
    "        y_pred = self.model(X)\n",
    "        val_loss = F.mse_loss(y_pred, y)\n",
    "        self.log(\"val_loss\", val_loss, prog_bar=True, on_step=False, on_epoch=True)\n",
    "\n",
    "    def test_step(self, batch, batch_idx):\n",
    "        X, y = batch\n",
    "        y_pred = self.model(X)\n",
    "        test_loss = F.mse_loss(y_pred, y)\n",
    "        self.log(\"test_loss\", test_loss)\n",
    "\n",
    "    def configure_optimizers(self):\n",
    "        optimizer = torch.optim.Adam(self.parameters(), lr=self.lr)\n",
    "        return optimizer"
   ]
  },
  {
   "cell_type": "markdown",
   "metadata": {},
   "source": [
    "### Training loop"
   ]
  },
  {
   "cell_type": "code",
   "execution_count": 74,
   "metadata": {},
   "outputs": [],
   "source": [
    "# Creating the lightning data loader\n",
    "pollution_loader = PollutionDataLoader(train_dir=\"data/LSTM-Multivariate_pollution.csv\"\n",
    "                                       , test_dir=None\n",
    "                                       , seq_len=10\n",
    "                                       , X_scaler=MinMaxScaler()\n",
    "                                       , y_scaler=MinMaxScaler()\n",
    "                                       , test_size=0.3\n",
    "                                       , random_state=42\n",
    "                                       , batch_size=128\n",
    "                                       , num_workers=7\n",
    "                                       , device=device\n",
    "                                       )"
   ]
  },
  {
   "cell_type": "markdown",
   "metadata": {},
   "source": [
    "#### LSTM"
   ]
  },
  {
   "cell_type": "code",
   "execution_count": 75,
   "metadata": {},
   "outputs": [
    {
     "name": "stderr",
     "output_type": "stream",
     "text": [
      "GPU available: False, used: False\n",
      "TPU available: False, using: 0 TPU cores\n",
      "IPU available: False, using: 0 IPUs\n",
      "HPU available: False, using: 0 HPUs\n"
     ]
    },
    {
     "name": "stderr",
     "output_type": "stream",
     "text": [
      "\n",
      "  | Name  | Type      | Params\n",
      "------------------------------------\n",
      "0 | model | LSTMModel | 2.3 K \n",
      "------------------------------------\n",
      "2.3 K     Trainable params\n",
      "0         Non-trainable params\n",
      "2.3 K     Total params\n",
      "0.009     Total estimated model params size (MB)\n"
     ]
    },
    {
     "data": {
      "application/vnd.jupyter.widget-view+json": {
       "model_id": "73d21799a61e4d9ebfb33c6b1a49cdc7",
       "version_major": 2,
       "version_minor": 0
      },
      "text/plain": [
       "Sanity Checking: |          | 0/? [00:00<?, ?it/s]"
      ]
     },
     "metadata": {},
     "output_type": "display_data"
    },
    {
     "data": {
      "application/vnd.jupyter.widget-view+json": {
       "model_id": "5aa712b0424746f38913e7946da17747",
       "version_major": 2,
       "version_minor": 0
      },
      "text/plain": [
       "Training: |          | 0/? [00:00<?, ?it/s]"
      ]
     },
     "metadata": {},
     "output_type": "display_data"
    },
    {
     "data": {
      "application/vnd.jupyter.widget-view+json": {
       "model_id": "2d700b6d43ca4696b20792c2f0d7458e",
       "version_major": 2,
       "version_minor": 0
      },
      "text/plain": [
       "Validation: |          | 0/? [00:00<?, ?it/s]"
      ]
     },
     "metadata": {},
     "output_type": "display_data"
    },
    {
     "data": {
      "application/vnd.jupyter.widget-view+json": {
       "model_id": "bee5fa92bbb244648f83bebaa858e7b0",
       "version_major": 2,
       "version_minor": 0
      },
      "text/plain": [
       "Validation: |          | 0/? [00:00<?, ?it/s]"
      ]
     },
     "metadata": {},
     "output_type": "display_data"
    },
    {
     "name": "stderr",
     "output_type": "stream",
     "text": [
      "`Trainer.fit` stopped: `max_epochs=2` reached.\n"
     ]
    }
   ],
   "source": [
    "lstm_model = LSTMModel(in_size = 8, h_size = 8, num_l = 4, out_f = 1).to(device)\n",
    "lstm_ts_model = TSModel(lstm_model)\n",
    "\n",
    "lstm_trainer = L.Trainer(max_epochs=2, enable_checkpointing=False)\n",
    "lstm_trainer.fit(lstm_ts_model, datamodule=pollution_loader)"
   ]
  },
  {
   "cell_type": "markdown",
   "metadata": {},
   "source": [
    "#### GRU"
   ]
  },
  {
   "cell_type": "code",
   "execution_count": null,
   "metadata": {},
   "outputs": [],
   "source": [
    "gru_model = LSTMModel(in_size = 8, h_size = 8, num_l = 4, out_f = 1).to(device)\n",
    "gru_ts_model = TSModel(lstm_model)\n",
    "\n",
    "gru_trainer = L.Trainer(max_epochs=3, enable_checkpointing=False)\n",
    "gru_trainer.fit(gru_ts_model, pollution_loader.train_dataloader, pollution_loader.val_dataloader)"
   ]
  },
  {
   "cell_type": "markdown",
   "metadata": {},
   "source": [
    "#### Functions"
   ]
  },
  {
   "cell_type": "code",
   "execution_count": 17,
   "metadata": {},
   "outputs": [],
   "source": [
    "# Plot the loss curve\n",
    "def plot_loss_curve(train_loss_list, val_loss_list, n_epochs):\n",
    "    x_range = range(1, n_epochs+1)\n",
    "\n",
    "    plt.plot(x_range, train_loss_list)\n",
    "    plt.plot(x_range, val_loss_list)\n",
    "    plt.title(\"Loss curve\")\n",
    "    plt.xlabel(\"Epoch\")\n",
    "    plt.ylabel(\"Loss metric\")\n",
    "    plt.xticks(x_range)\n",
    "    plt.show()\n",
    "\n",
    "\n",
    "# Predicting on new data\n",
    "def predict_model(model, data_loader):\n",
    "    model.eval()\n",
    "    output = torch.tensor([])\n",
    "\n",
    "    with torch.no_grad():\n",
    "        for X, _ in data_loader:\n",
    "            y_pred = model(X)\n",
    "            output = torch.cat((output, y_pred), 0)\n",
    "    \n",
    "    return output.cpu().numpy()"
   ]
  }
 ],
 "metadata": {
  "kernelspec": {
   "display_name": "learn_torch",
   "language": "python",
   "name": "python3"
  },
  "language_info": {
   "codemirror_mode": {
    "name": "ipython",
    "version": 3
   },
   "file_extension": ".py",
   "mimetype": "text/x-python",
   "name": "python",
   "nbconvert_exporter": "python",
   "pygments_lexer": "ipython3",
   "version": "3.10.12"
  }
 },
 "nbformat": 4,
 "nbformat_minor": 2
}
